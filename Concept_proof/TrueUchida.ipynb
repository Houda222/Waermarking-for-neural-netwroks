{
  "cells": [
    {
      "cell_type": "code",
      "execution_count": null,
      "metadata": {
        "id": "JqeffAs3Ld_R"
      },
      "outputs": [],
      "source": [
        "#IMPORTS\n",
        "import torch.nn as nn\n",
        "import torch\n",
        "from torchvision import datasets, transforms\n",
        "from torch import nn, optim\n",
        "import torch.nn.functional as F\n",
        "import torchvision\n",
        "import os\n",
        "import numpy as np\n",
        "import matplotlib.pyplot as plt"
      ]
    },
    {
      "cell_type": "markdown",
      "metadata": {},
      "source": [
        "## I- INITIALIZATION AND DEFINITIONS"
      ]
    },
    {
      "cell_type": "markdown",
      "metadata": {},
      "source": [
        "#   Necessary metric for this method"
      ]
    },
    {
      "cell_type": "code",
      "execution_count": null,
      "metadata": {},
      "outputs": [],
      "source": [
        "def calculate_ber(binary_tensor, continuous_tensor):           \n",
        "    # Ensure tensors are of the same shape\n",
        "    assert binary_tensor.shape == continuous_tensor.shape, \"Tensors must have the same shape\"\n",
        "\n",
        "    # Flatten tensors to 1D arrays\n",
        "    binary_flat = binary_tensor.flatten()\n",
        "    continuous_flat = continuous_tensor.flatten()\n",
        "\n",
        "    # Convert continuous tensor to binary based on threshold 0.5\n",
        "    binary_pred = (continuous_flat >= 0.5).float()\n",
        "\n",
        "    # Calculate bit errors\n",
        "    errors = torch.abs(binary_flat - binary_pred).sum().item()\n",
        "\n",
        "    # Calculate bit error rate\n",
        "    ber = errors / binary_flat.numel()\n",
        "\n",
        "    return ber"
      ]
    },
    {
      "cell_type": "code",
      "execution_count": null,
      "metadata": {
        "id": "4vHr5bo8x2dS"
      },
      "outputs": [],
      "source": [
        "imt_logo=np.zeros((8,16))                       #TOMOD\n",
        "imt_logo[0,:]=[1,0,1,0,1,0,1,0,1,0,1,0,1,0,1,0]\n",
        "imt_logo[1,:]=[0,0,0,0,0,0,0,0,0,0,0,0,0,0,0,1]\n",
        "imt_logo[2,:]=[1,0,0,1,1,1,0,1,0,1,0,1,1,1,0,0]\n",
        "imt_logo[3,:]=[0,0,0,0,1,0,0,1,1,1,0,0,1,0,0,1]\n",
        "imt_logo[4,:]=[1,0,0,0,1,0,0,1,0,1,0,0,1,0,0,0]\n",
        "imt_logo[5,:]=[0,0,0,1,1,1,0,1,0,1,0,0,1,0,0,1]\n",
        "imt_logo[6,:]=[1,0,0,0,0,0,0,0,0,0,0,0,0,0,0,0]\n",
        "imt_logo[7,:]=[0,1,0,1,0,1,0,1,0,1,0,1,0,1,0,1]\n"
      ]
    },
    {
      "cell_type": "code",
      "execution_count": null,
      "metadata": {
        "colab": {
          "base_uri": "https://localhost:8080/",
          "height": 285
        },
        "id": "-9X07cLmzDlh",
        "outputId": "da929723-00e7-43e9-ad50-f502027ffa2c"
      },
      "outputs": [
        {
          "data": {
            "image/png": "[encoded data removed]",
            "text/plain": [
              "<Figure size 640x480 with 1 Axes>"
            ]
          },
          "metadata": {},
          "output_type": "display_data"
        }
      ],
      "source": [
        "#affichage\n",
        "plt.imshow(imt_logo, cmap='binary')\n",
        "plt.axis('off')\n",
        "rows, cols = imt_logo.shape\n",
        "for i in range(rows + 1):\n",
        "    plt.axhline(y=i - 0.5, color='black', linewidth=1.5)  # Horizontal lines\n",
        "\n",
        "for j in range(cols + 1):\n",
        "    plt.axvline(x=j - 0.5, color='black', linewidth=1.5)  # Turn off axis\n",
        "plt.show()"
      ]
    },
    {
      "cell_type": "code",
      "execution_count": null,
      "metadata": {
        "id": "q4cX5etnzcl5"
      },
      "outputs": [],
      "source": [
        "imt_logo=np.reshape(imt_logo,(128,))\n",
        "imt_logo_tensor=torch.tensor(imt_logo)"
      ]
    },
    {
      "cell_type": "code",
      "execution_count": null,
      "metadata": {
        "id": "AyMUuODxPVYg"
      },
      "outputs": [],
      "source": [
        "transform = transforms.Compose([\n",
        "    transforms.ToTensor(),\n",
        "    transforms.Normalize((0.5,), (0.5,)) \n",
        "])\n",
        "\n",
        "# Set batch size\n",
        "batch_size = 2   #small batch_size \n",
        "\n",
        "# Load MNIST train dataset\n",
        "trainset = torchvision.datasets.MNIST(root='./data', train=True,\n",
        "                                      download=True, transform=transform)\n",
        "trainloader = torch.utils.data.DataLoader(trainset, batch_size=batch_size,\n",
        "                                          shuffle=True, num_workers=2)\n",
        "\n",
        "# Load MNIST test dataset\n",
        "testset = torchvision.datasets.MNIST(root='./data', train=False,\n",
        "                                     download=True, transform=transform)\n",
        "testloader = torch.utils.data.DataLoader(testset, batch_size=batch_size,\n",
        "                                         shuffle=False, num_workers=2)\n",
        "\n",
        "# Define the classes for MNIST (digits 0-9)\n",
        "classes = ('0', '1', '2', '3', '4', '5', '6', '7', '8', '9')"
      ]
    },
    {
      "cell_type": "code",
      "execution_count": null,
      "metadata": {
        "id": "JeCDlXjiLXX7"
      },
      "outputs": [],
      "source": [
        "#HEREIN IS THE UCHIDA METHOD\n",
        "class WatermarkLoss(nn.Module):\n",
        "    def __init__(self,key,mark):\n",
        "        super(WatermarkLoss, self).__init__()\n",
        "        self.key=key\n",
        "        self.mark=mark.float()\n",
        "\n",
        "    def forward(self,weights):\n",
        "        y = torch.mean(weights, dim=3)\n",
        "        z = y.view(1, -1)\n",
        "        d=torch.sigmoid(torch.matmul(z, self.key))\n",
        "        d=d.squeeze()\n",
        "        d=d.float()\n",
        "        loss=F.binary_cross_entropy(d, self.mark)\n",
        "        return loss\n"
      ]
    },
    {
      "cell_type": "code",
      "execution_count": null,
      "metadata": {
        "id": "CXxLmG32LleH"
      },
      "outputs": [],
      "source": [
        "#simple CNN Mnist\n",
        "class Net(nn.Module):\n",
        "    def __init__(self):\n",
        "        super(Net, self).__init__()\n",
        "        self.conv1 = nn.Conv2d(1, 6, 5)  # Adjust input channels to 1 for grayscale images\n",
        "        self.pool = nn.MaxPool2d(2, 2)\n",
        "        self.conv2 = nn.Conv2d(6, 16, 5)\n",
        "        self.fc1 = nn.Linear(16 * 4 * 4, 120)  # Adjust input size after max pooling\n",
        "        self.fc2 = nn.Linear(120, 84)\n",
        "        self.fc3 = nn.Linear(84, 10)\n",
        "\n",
        "    def forward(self, x):\n",
        "        x = self.pool(F.relu(self.conv1(x)))\n",
        "        x = self.pool(F.relu(self.conv2(x)))\n",
        "        x = torch.flatten(x, 1)\n",
        "        x = F.relu(self.fc1(x))\n",
        "        x = F.relu(self.fc2(x))\n",
        "        x = self.fc3(x)\n",
        "        return x"
      ]
    },
    {
      "cell_type": "markdown",
      "metadata": {},
      "source": [
        "## II - TRAINING MODEL"
      ]
    },
    {
      "cell_type": "code",
      "execution_count": null,
      "metadata": {
        "colab": {
          "base_uri": "https://localhost:8080/"
        },
        "id": "oaF_gV8YPAg4",
        "outputId": "24100fe1-440e-4afe-8ae0-6f0f417bc294"
      },
      "outputs": [
        {
          "name": "stdout",
          "output_type": "stream",
          "text": [
            "layer shape torch.Size([16, 6, 5, 5])\n"
          ]
        }
      ],
      "source": [
        "net = Net()\n",
        "criterion = nn.CrossEntropyLoss()\n",
        "optimizer = optim.SGD(net.parameters(), lr=0.001, momentum=0.9)\n",
        "random_testaccuracy = []\n",
        "epochs = 30             #TOMOD 5 epochs is more than enough\n",
        "random_losses= []\n",
        "random_watermark_losses=[]\n",
        "unmodified_key= net.conv2.weight\n",
        "print(\"layer shape is : \",unmodified_key.shape)\n"
      ]
    },
    {
      "cell_type": "code",
      "execution_count": null,
      "metadata": {
        "id": "CzwvgvycPREo"
      },
      "outputs": [],
      "source": [
        "# Define watermark input and output\n",
        "key = torch.randn(480,128)        #Random method for keyt generation (diff and direct methodss are not implemented T-T  )\n",
        "mark = imt_logo_tensor\n",
        "mark=mark.double()\n",
        "waterloss=WatermarkLoss(key,mark)\n",
        "alpha=0.05 #importance of watermark loss coefficient"
      ]
    },
    {
      "cell_type": "code",
      "execution_count": null,
      "metadata": {
        "colab": {
          "base_uri": "https://localhost:8080/"
        },
        "id": "uLjzTfC8PhQp",
        "outputId": "41d20edb-de85-41c0-96ab-4ff94e6ffc45"
      },
      "outputs": [
        {
          "name": "stdout",
          "output_type": "stream",
          "text": [
            "[1,  2000] loss: 1.332\n",
            "[1,  4000] loss: 0.254\n",
            "[1,  6000] loss: 0.220\n",
            "[1,  8000] loss: 0.167\n",
            "[1, 10000] loss: 0.123\n",
            "[1, 12000] loss: 0.122\n",
            "[1, 14000] loss: 0.126\n",
            "[1, 16000] loss: 0.104\n",
            "[1, 18000] loss: 0.095\n",
            "[1, 20000] loss: 0.080\n",
            "[1, 22000] loss: 0.099\n",
            "[1, 24000] loss: 0.086\n",
            "[1, 26000] loss: 0.082\n",
            "[1, 28000] loss: 0.079\n",
            "[1, 30000] loss: 0.072\n",
            "Accuracy of the network on the 10000 test images: 98%\n",
            "[2,  2000] loss: 0.065\n",
            "[2,  4000] loss: 0.059\n",
            "[2,  6000] loss: 0.061\n",
            "[2,  8000] loss: 0.061\n",
            "[2, 10000] loss: 0.070\n",
            "[2, 12000] loss: 0.054\n",
            "[2, 14000] loss: 0.075\n",
            "[2, 16000] loss: 0.062\n",
            "[2, 18000] loss: 0.052\n",
            "[2, 20000] loss: 0.055\n",
            "[2, 22000] loss: 0.064\n",
            "[2, 24000] loss: 0.058\n",
            "[2, 26000] loss: 0.057\n",
            "[2, 28000] loss: 0.053\n",
            "[2, 30000] loss: 0.063\n",
            "Accuracy of the network on the 10000 test images: 98%\n",
            "[3,  2000] loss: 0.035\n",
            "[3,  4000] loss: 0.039\n",
            "[3,  6000] loss: 0.045\n",
            "[3,  8000] loss: 0.037\n",
            "[3, 10000] loss: 0.043\n",
            "[3, 12000] loss: 0.052\n",
            "[3, 14000] loss: 0.038\n",
            "[3, 16000] loss: 0.041\n",
            "[3, 18000] loss: 0.044\n",
            "[3, 20000] loss: 0.045\n",
            "[3, 22000] loss: 0.043\n",
            "[3, 24000] loss: 0.057\n",
            "[3, 26000] loss: 0.048\n",
            "[3, 28000] loss: 0.050\n",
            "[3, 30000] loss: 0.044\n",
            "Accuracy of the network on the 10000 test images: 98%\n",
            "[4,  2000] loss: 0.022\n",
            "[4,  4000] loss: 0.039\n",
            "[4,  6000] loss: 0.034\n",
            "[4,  8000] loss: 0.038\n",
            "[4, 10000] loss: 0.038\n",
            "[4, 12000] loss: 0.033\n",
            "[4, 14000] loss: 0.044\n",
            "[4, 16000] loss: 0.031\n",
            "[4, 18000] loss: 0.030\n",
            "[4, 20000] loss: 0.036\n",
            "[4, 22000] loss: 0.049\n",
            "[4, 24000] loss: 0.033\n",
            "[4, 26000] loss: 0.040\n",
            "[4, 28000] loss: 0.032\n",
            "[4, 30000] loss: 0.032\n",
            "Accuracy of the network on the 10000 test images: 98%\n",
            "[5,  2000] loss: 0.028\n",
            "[5,  4000] loss: 0.018\n",
            "[5,  6000] loss: 0.020\n",
            "[5,  8000] loss: 0.028\n",
            "[5, 10000] loss: 0.025\n",
            "[5, 12000] loss: 0.019\n",
            "[5, 14000] loss: 0.031\n",
            "[5, 16000] loss: 0.025\n",
            "[5, 18000] loss: 0.027\n",
            "[5, 20000] loss: 0.020\n",
            "[5, 22000] loss: 0.033\n",
            "[5, 24000] loss: 0.032\n",
            "[5, 26000] loss: 0.031\n",
            "[5, 28000] loss: 0.027\n",
            "[5, 30000] loss: 0.046\n",
            "Accuracy of the network on the 10000 test images: 98%\n",
            "Finished Training\n"
          ]
        }
      ],
      "source": [
        "for epoch in range(epochs):  # loop over the dataset multiple times\n",
        "\n",
        "  running_loss = 0.0\n",
        "  for i, data in enumerate(trainloader, 0):\n",
        "    # get the inputs; data is a list of [inputs, labels]\n",
        "    inputs, labels = data\n",
        "    # zero the parameter gradients\n",
        "    optimizer.zero_grad()\n",
        "    # forward + backward + optimize\n",
        "    outputs = net(inputs)\n",
        "    loss = criterion(outputs, labels)\n",
        "    watermark_loss = waterloss(net.conv2.weight)\n",
        "    total_loss = loss +  alpha * watermark_loss          #TOMOD\n",
        "    total_loss.backward()\n",
        "    optimizer.step()\n",
        "          # print statistics\n",
        "    running_loss += loss.item()\n",
        "    if i % 2000 == 1999:    # print every 2000 mini-batches\n",
        "      print('[%d, %5d] loss: %.3f' %\n",
        "      (epoch + 1, i + 1, running_loss / 2000))\n",
        "      random_losses.append(loss)\n",
        "      random_watermark_losses.append(watermark_loss)\n",
        "      running_loss = 0.0\n",
        "\n",
        "  correct = 0\n",
        "  total = 0\n",
        "  # since we're not training, we don't need to calculate the gradients for our outputs\n",
        "  with torch.no_grad():\n",
        "    for data in testloader:\n",
        "        images, labels = data\n",
        "        # calculate outputs by running images through the network\n",
        "        outputs = net(images)\n",
        "        # the class with the highest energy is what we choose as prediction\n",
        "        _, predicted = torch.max(outputs.data, 1)\n",
        "        total += labels.size(0)\n",
        "        correct += (predicted == labels).sum().item()\n",
        "\n",
        "  print('Accuracy of the network on the 10000 test images: %d%%' % (100 * correct / total))\n",
        "  random_testaccuracy.append(correct/total)\n",
        "\n",
        "print('Finished Training')"
      ]
    },
    {
      "cell_type": "code",
      "execution_count": null,
      "metadata": {
        "id": "VUToEDMlMUov"
      },
      "outputs": [],
      "source": [
        "torch.save(net.state_dict(), 'net_weights.pth')                   #TOMOD\n",
        "torch.save(net.state_dict(), '/content/model_weights.pth')        #TOMOD"
      ]
    },
    {
      "cell_type": "markdown",
      "metadata": {},
      "source": [
        "Visualize the computational graph of the model in order to verify its' functioning"
      ]
    },
    {
      "cell_type": "code",
      "execution_count": null,
      "metadata": {},
      "outputs": [],
      "source": [
        "from torchviz import make_dot\n",
        "\n",
        "\n",
        "# Assuming trainloader is your DataLoader containing your dataset\n",
        "\n",
        "# Get the first data sample from the dataset\n",
        "first_data_sample = next(iter(trainloader.dataset))\n",
        "\n",
        "# Extract the input from the data sample\n",
        "inputs, _ = first_data_sample\n",
        "\n",
        "# Inspect the shape of the input data\n",
        "input_size = inputs.shape  # Assuming inputs is a tensor\n",
        "print(\"Input size:\", input_size)\n",
        "\n",
        "# Dummy input data\n",
        "dummy_input = torch.randn(1, *input_size)\n",
        "\n",
        "# Create computational graph\n",
        "dot = make_dot(net(dummy_input), params=dict(net.named_parameters()))\n",
        "\n",
        "# Save the graph as a PNG file\n",
        "dot.render(\"computational_graph\", format=\"png\")\n",
        "#from google.colab import files                 #TOMOD\n",
        "\n",
        "# Download the file\n",
        "#files.download('computational_graph.png')          #TOMOD"
      ]
    },
    {
      "cell_type": "code",
      "execution_count": null,
      "metadata": {},
      "outputs": [],
      "source": [
        "loss_list = [tensor.item() for tensor in random_losses]\n",
        "plt.plot(loss_list)"
      ]
    },
    {
      "cell_type": "code",
      "execution_count": null,
      "metadata": {},
      "outputs": [],
      "source": [
        "watermark_loss_list = [tensor.item() for tensor in random_watermark_losses]\n",
        "\n",
        "plt.plot(watermark_loss_list)\n",
        "plt.show()"
      ]
    },
    {
      "cell_type": "markdown",
      "metadata": {},
      "source": [
        "## III - PRUNING ATTACK"
      ]
    },
    {
      "cell_type": "code",
      "execution_count": null,
      "metadata": {
        "colab": {
          "base_uri": "https://localhost:8080/"
        },
        "id": "7n8atsBuM6hj",
        "outputId": "03b25c2d-abb8-414d-d091-43d3c7de00bc"
      },
      "outputs": [
        {
          "data": {
            "text/plain": [
              "<All keys matched successfully>"
            ]
          },
          "execution_count": 63,
          "metadata": {},
          "output_type": "execute_result"
        }
      ],
      "source": [
        "pruned_model=Net()\n",
        "pruned_model.load_state_dict(torch.load('net_weights.pth'))"
      ]
    },
    {
      "cell_type": "code",
      "execution_count": null,
      "metadata": {
        "colab": {
          "base_uri": "https://localhost:8080/"
        },
        "id": "vITpvc3ANGRZ",
        "outputId": "bb864ff8-8b15-4c73-fa62-6f90e3bf221b"
      },
      "outputs": [
        {
          "data": {
            "text/plain": [
              "Conv2d(6, 16, kernel_size=(5, 5), stride=(1, 1))"
            ]
          },
          "execution_count": 64,
          "metadata": {},
          "output_type": "execute_result"
        }
      ],
      "source": [
        "import torch.nn.utils.prune as prune\n",
        "module = pruned_model.conv2\n",
        "prune.l1_unstructured(module, name=\"weight\", amount=0.5)  # Prune amount% of the weights #TOMOD\n",
        "\n",
        "# Remove zeroed weights\n",
        "prune.remove(module, \"weight\")"
      ]
    },
    {
      "cell_type": "code",
      "execution_count": null,
      "metadata": {
        "colab": {
          "base_uri": "https://localhost:8080/",
          "height": 308
        },
        "id": "_3wuyplFNbYz",
        "outputId": "3b6d4c1c-b551-4ec7-dc81-fdcd1e56e5a9"
      },
      "outputs": [
        {
          "data": {
            "image/png": "[encoded data removed]",
            "text/plain": [
              "<Figure size 640x480 with 1 Axes>"
            ]
          },
          "metadata": {},
          "output_type": "display_data"
        }
      ],
      "source": [
        "y = torch.mean(pruned_model.conv2.weight, dim=3)\n",
        "z = y.view(1, -1)\n",
        "d=torch.sigmoid(torch.matmul(z,key))\n",
        "d=d.squeeze()\n",
        "pruned_d=d.float()\n",
        "np_predicted=np.array([tensor.item() for tensor in pruned_d])\n",
        "np_predicted=np.reshape(np_predicted,(8,16))\n",
        "plt.imshow(np_predicted, cmap='binary')\n",
        "rows, cols = np_predicted.shape\n",
        "for i in range(rows + 1):\n",
        "    plt.axhline(y=i - 0.5, color='black', linewidth=1.5)  # Horizontal lines\n",
        "\n",
        "for j in range(cols + 1):\n",
        "    plt.axvline(x=j - 0.5, color='black', linewidth=1.5)\n",
        "plt.show()"
      ]
    },
    {
      "cell_type": "code",
      "execution_count": null,
      "metadata": {
        "colab": {
          "base_uri": "https://localhost:8080/"
        },
        "id": "TdToJEshQ9ux",
        "outputId": "6b08d975-acbf-47f7-bbfb-1aa28ca7626f"
      },
      "outputs": [
        {
          "name": "stdout",
          "output_type": "stream",
          "text": [
            "Bit Error Rate: 0.09375\n"
          ]
        }
      ],
      "source": [
        "\n",
        "ber = calculate_ber(mark, pruned_d)\n",
        "print(\"Bit Error Rate:\", ber)\n"
      ]
    },
    {
      "cell_type": "markdown",
      "metadata": {},
      "source": [
        "## RESULTS VISUALISATION"
      ]
    },
    {
      "cell_type": "code",
      "execution_count": null,
      "metadata": {
        "id": "t2_sM0ZLie36"
      },
      "outputs": [],
      "source": [
        "y = torch.mean(net.conv2.weight, dim=3)\n",
        "z = y.view(1, -1)\n",
        "d=torch.sigmoid(torch.matmul(z,key))\n",
        "d=d.squeeze()\n",
        "d=d.float()\n",
        "#D is the predicted KEY VALUE\n"
      ]
    },
    {
      "cell_type": "code",
      "execution_count": null,
      "metadata": {
        "colab": {
          "base_uri": "https://localhost:8080/",
          "height": 99
        },
        "id": "cfXKcsp9kobq",
        "outputId": "cec3d992-36f3-4601-a050-88e189e16dfc"
      },
      "outputs": [
        {
          "data": {
            "image/png": "[encoded data removed]",
            "text/plain": [
              "<Figure size 640x480 with 1 Axes>"
            ]
          },
          "metadata": {},
          "output_type": "display_data"
        }
      ],
      "source": [
        "def draw_boxes(binary_list, box_size=1.0, edge_color='black', edge_width=1.0):\n",
        "    fig, ax = plt.subplots()\n",
        "    ax.set_aspect('equal')\n",
        "    ax.set_axis_off()\n",
        "\n",
        "    for i, value in enumerate(binary_list):\n",
        "        face_color = 'white' if value >= 0.5 else 'black'\n",
        "        rect = plt.Rectangle((i * box_size, 0), box_size, box_size, facecolor=face_color, edgecolor=edge_color, linewidth=edge_width)\n",
        "        ax.add_patch(rect)\n",
        "\n",
        "    plt.xlim(0, len(binary_list) * box_size)\n",
        "    plt.ylim(0, box_size)\n",
        "    plt.show()\n",
        "\n",
        "# Example usage\n",
        "binary_list = [0, 1, 0, 1, 1, 0, 0, 1]\n",
        "draw_boxes(binary_list, box_size=2.0, edge_color='black', edge_width=1.0)"
      ]
    },
    {
      "cell_type": "code",
      "execution_count": null,
      "metadata": {
        "colab": {
          "base_uri": "https://localhost:8080/",
          "height": 40
        },
        "id": "OuV7ObVrtN9b",
        "outputId": "3f360123-c895-4ead-dcf5-fea034e2a72d"
      },
      "outputs": [
        {
          "data": {
            "image/png": "[encoded data removed]",
            "text/plain": [
              "<Figure size 640x480 with 1 Axes>"
            ]
          },
          "metadata": {},
          "output_type": "display_data"
        }
      ],
      "source": [
        "def draw_difference(binary_list,binary_list_2,box_size=1.0, edge_color='black', edge_width=1.0):\n",
        "    fig, ax = plt.subplots()\n",
        "    ax.set_aspect('equal')\n",
        "    ax.set_axis_off()\n",
        "    binary_np=np.array([tensor.item() for tensor in binary_list])\n",
        "    binary_np_2=np.array([tensor.item() for tensor in binary_list_2])\n",
        "    difference=np.abs(binary_np-binary_np_2)\n",
        "    for i, value in enumerate(difference):\n",
        "        face_color = 'red' if value >= 0.5 else 'green'\n",
        "        rect = plt.Rectangle((i * box_size, 0), box_size, box_size, facecolor=face_color, edgecolor=edge_color, linewidth=edge_width)\n",
        "        ax.add_patch(rect)\n",
        "\n",
        "    plt.xlim(0, len(binary_list) * box_size)\n",
        "    plt.ylim(0, box_size)\n",
        "    plt.show()\n",
        "# IF TWO CELLS ARE THE SAME THE OUTPUT IS GREEN OTHERWISSE IT IS RED"
      ]
    },
    {
      "cell_type": "code",
      "execution_count": null,
      "metadata": {
        "colab": {
          "base_uri": "https://localhost:8080/",
          "height": 155
        },
        "id": "VMw8m6xVkqBS",
        "outputId": "5de75904-00ad-4007-f682-aa5af794a154"
      },
      "outputs": [
        {
          "name": "stdout",
          "output_type": "stream",
          "text": [
            "the original message is: \n"
          ]
        },
        {
          "data": {
            "image/png": "[encoded data removed]",
            "text/plain": [
              "<Figure size 640x480 with 1 Axes>"
            ]
          },
          "metadata": {},
          "output_type": "display_data"
        },
        {
          "name": "stdout",
          "output_type": "stream",
          "text": [
            "the recovered message is: \n"
          ]
        },
        {
          "data": {
            "image/png": "[encoded data removed]",
            "text/plain": [
              "<Figure size 640x480 with 1 Axes>"
            ]
          },
          "metadata": {},
          "output_type": "display_data"
        },
        {
          "name": "stdout",
          "output_type": "stream",
          "text": [
            "the difference is :\n"
          ]
        },
        {
          "data": {
            "image/png": "[encoded data removed]",
            "text/plain": [
              "<Figure size 640x480 with 1 Axes>"
            ]
          },
          "metadata": {},
          "output_type": "display_data"
        }
      ],
      "source": [
        "print('the original message is: ')\n",
        "draw_boxes(mark, box_size=2.0, edge_color='black', edge_width=1.0)\n",
        "print('the recovered message is: ')\n",
        "draw_boxes(d, box_size=2.0, edge_color='black', edge_width=1.0)\n",
        "print('the difference in the first 24 boxes is :')\n",
        "draw_difference(d[0:24],mark[0:24],box_size=2.0, edge_color='black', edge_width=1.0)"
      ]
    },
    {
      "cell_type": "code",
      "execution_count": null,
      "metadata": {
        "colab": {
          "base_uri": "https://localhost:8080/"
        },
        "id": "PoVsxY_dlfrR",
        "outputId": "032528d9-07c9-4033-e1c3-18d5e7a114cb"
      },
      "outputs": [
        {
          "name": "stdout",
          "output_type": "stream",
          "text": [
            "Bit Error Rate: 0.0\n"
          ]
        }
      ],
      "source": [
        "# bIT ERROR RATE CALCULATION\n",
        "ber = calculate_ber(mark, d)\n",
        "print(\"Bit Error Rate:\", ber)\n"
      ]
    },
    {
      "cell_type": "code",
      "execution_count": null,
      "metadata": {
        "colab": {
          "base_uri": "https://localhost:8080/",
          "height": 308
        },
        "id": "LSwAKxbz-7ia",
        "outputId": "b0ee73b4-c371-4b57-a31d-c80e25ba09fe"
      },
      "outputs": [
        {
          "data": {
            "image/png": "[encoded data removed]",
            "text/plain": [
              "<Figure size 640x480 with 1 Axes>"
            ]
          },
          "metadata": {},
          "output_type": "display_data"
        }
      ],
      "source": [
        "np_predicted=np.array([tensor.item() for tensor in d])\n",
        "np_predicted=np.reshape(np_predicted,(8,16))\n",
        "plt.imshow(np_predicted, cmap='binary')\n",
        "rows, cols = np_predicted.shape\n",
        "for i in range(rows + 1):\n",
        "    plt.axhline(y=i - 0.5, color='black', linewidth=1.5)  # Horizontal lines\n",
        "\n",
        "for j in range(cols + 1):\n",
        "    plt.axvline(x=j - 0.5, color='black', linewidth=1.5)\n",
        "plt.show()"
      ]
    },
    {
      "cell_type": "code",
      "execution_count": null,
      "metadata": {
        "id": "AYnth-bQ599m"
      },
      "outputs": [],
      "source": [
        "y = torch.mean(unmodified_key, dim=3)\n",
        "z = y.view(1, -1)\n",
        "unmodified_d=torch.sigmoid(torch.matmul(z,key))\n",
        "unmodified_d=unmodified_d.squeeze()\n",
        "unmodified_d=unmodified_d.float()\n"
      ]
    },
    {
      "cell_type": "code",
      "execution_count": null,
      "metadata": {
        "colab": {
          "base_uri": "https://localhost:8080/"
        },
        "id": "lXtRqCpt6gA1",
        "outputId": "d344962c-2039-483d-c56f-cf857c1d88ee"
      },
      "outputs": [
        {
          "name": "stdout",
          "output_type": "stream",
          "text": [
            "Bit Error Rate: 0.0\n"
          ]
        }
      ],
      "source": [
        "\n",
        "ber = calculate_ber(mark, unmodified_d)\n",
        "print(\"Bit Error Rate:\", ber)\n"
      ]
    },
    {
      "cell_type": "code",
      "execution_count": null,
      "metadata": {
        "colab": {
          "base_uri": "https://localhost:8080/",
          "height": 308
        },
        "id": "PnWeu8L26jUM",
        "outputId": "44ddd803-4803-460b-a82b-5bae29e251fc"
      },
      "outputs": [
        {
          "data": {
            "image/png": "[encoded data removed]",
            "text/plain": [
              "<Figure size 640x480 with 1 Axes>"
            ]
          },
          "metadata": {},
          "output_type": "display_data"
        }
      ],
      "source": [
        "unmodified_d=np.array([tensor.item() for tensor in unmodified_d])\n",
        "unmodified_d=np.reshape(unmodified_d,(8,16))\n",
        "rows, cols = unmodified_d.shape\n",
        "plt.imshow(unmodified_d,cmap='binary')\n",
        "for i in range(rows + 1):\n",
        "    plt.axhline(y=i - 0.5, color='black', linewidth=1.5)  # Horizontal lines\n",
        "\n",
        "for j in range(cols + 1):\n",
        "    plt.axvline(x=j - 0.5, color='black', linewidth=1.5)\n",
        "plt.show()"
      ]
    }
  ],
  "metadata": {
    "colab": {
      "provenance": []
    },
    "kernelspec": {
      "display_name": "Python 3",
      "name": "python3"
    },
    "language_info": {
      "name": "python"
    }
  },
  "nbformat": 4,
  "nbformat_minor": 0
}
