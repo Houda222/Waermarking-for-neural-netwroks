{
  "cells": [
    {
      "cell_type": "code",
      "execution_count": null,
      "metadata": {
        "id": "REQmz9vwgrte"
      },
      "outputs": [],
      "source": [
        "import os\n",
        "import numpy as np\n",
        "import nibabel as nib\n",
        "import torch\n",
        "import torch.nn as nn\n",
        "import torch.optim as optim\n",
        "from torch.utils.data import DataLoader, Dataset\n",
        "from tqdm import tqdm\n",
        "import matplotlib.pyplot as plt\n",
        "import torch.nn.functional as F\n"
      ]
    },
    {
      "cell_type": "code",
      "execution_count": null,
      "metadata": {
        "id": "TmPUHULugrtf",
        "outputId": "b2c367f9-5f79-45ae-cb5f-6f2ddd56267e"
      },
      "outputs": [
        {
          "name": "stdout",
          "output_type": "stream",
          "text": [
            "training on device : cuda\n"
          ]
        }
      ],
      "source": [
        "# Set device\n",
        "device = torch.device('cuda' if torch.cuda.is_available() else 'cpu')\n",
        "print('training on device :', device)"
      ]
    },
    {
      "cell_type": "code",
      "execution_count": null,
      "metadata": {
        "id": "J7BXaKrRgrtg"
      },
      "outputs": [],
      "source": [
        "imt_logo=np.zeros((8,16))\n",
        "imt_logo[0,:]=[1,0,1,0,1,0,1,0,1,0,1,0,1,0,1,0]\n",
        "imt_logo[1,:]=[0,0,0,0,0,0,0,0,0,0,0,0,0,0,0,1]\n",
        "imt_logo[2,:]=[1,0,0,1,1,1,0,1,0,1,0,1,1,1,0,0]\n",
        "imt_logo[3,:]=[0,0,0,0,1,0,0,1,1,1,0,0,1,0,0,1]\n",
        "imt_logo[4,:]=[1,0,0,0,1,0,0,1,0,1,0,0,1,0,0,0]\n",
        "imt_logo[5,:]=[0,0,0,1,1,1,0,1,0,1,0,0,1,0,0,1]\n",
        "imt_logo[6,:]=[1,0,0,0,0,0,0,0,0,0,0,0,0,0,0,0]\n",
        "imt_logo[7,:]=[0,1,0,1,0,1,0,1,0,1,0,1,0,1,0,1]\n",
        "\n"
      ]
    },
    {
      "cell_type": "code",
      "execution_count": null,
      "metadata": {
        "id": "VhgOQmH9grtg",
        "outputId": "8267a52e-3c9c-4f36-ac2e-17da3191f286"
      },
      "outputs": [
        {
          "data": {
            "image/png": "[encoded data removed]",
            "text/plain": [
              "<Figure size 640x480 with 1 Axes>"
            ]
          },
          "metadata": {},
          "output_type": "display_data"
        }
      ],
      "source": [
        "plt.imshow(imt_logo, cmap='binary')\n",
        "plt.axis('off')\n",
        "rows, cols = imt_logo.shape\n",
        "for i in range(rows + 1):\n",
        "    plt.axhline(y=i - 0.5, color='black', linewidth=1.5)  # Horizontal lines\n",
        "\n",
        "for j in range(cols + 1):\n",
        "    plt.axvline(x=j - 0.5, color='black', linewidth=1.5)  # Turn off axis\n",
        "plt.show()"
      ]
    },
    {
      "cell_type": "code",
      "execution_count": null,
      "metadata": {
        "id": "jEEIthuZgrtg"
      },
      "outputs": [],
      "source": [
        "imt_logo=np.reshape(imt_logo,(128,))\n",
        "imt_logo_tensor=torch.tensor(imt_logo).to(device)"
      ]
    },
    {
      "cell_type": "code",
      "execution_count": null,
      "metadata": {
        "id": "2d9fokRZgrtg"
      },
      "outputs": [],
      "source": [
        "class WatermarkLoss(nn.Module):\n",
        "    def __init__(self,key,mark):\n",
        "        super(WatermarkLoss, self).__init__()\n",
        "        self.key=key\n",
        "        self.mark=mark.float()\n",
        "\n",
        "    def forward(self,weights):\n",
        "        y = torch.mean(weights, dim=(3,4)).to(device)\n",
        "        #print(\"y shape\", y.shape)\n",
        "        z = y.view(1, -1)\n",
        "        d=torch.sigmoid(torch.matmul(z, self.key))\n",
        "        d=d.squeeze()\n",
        "        d=d.float()\n",
        "        loss=F.binary_cross_entropy(d, self.mark)\n",
        "        return loss"
      ]
    },
    {
      "cell_type": "code",
      "execution_count": null,
      "metadata": {
        "id": "JLCBWS1dgrtg"
      },
      "outputs": [],
      "source": [
        "bits = 128\n",
        "key = torch.randn(128*64*2,bits).to(device)\n",
        "mark = imt_logo_tensor[:bits]\n",
        "mark=mark.double()\n",
        "waterloss=WatermarkLoss(key,mark)"
      ]
    },
    {
      "cell_type": "code",
      "execution_count": null,
      "metadata": {
        "id": "an2QZg1ygrtg"
      },
      "outputs": [],
      "source": [
        "def extract_watermark(model, key):\n",
        "    y = torch.mean(model.up1.weight, dim=(3,4))\n",
        "    z = y.view(1, -1)\n",
        "    d=torch.sigmoid(torch.matmul(z,key))\n",
        "    d=d.squeeze()\n",
        "    d=d.float()\n",
        "    return d"
      ]
    },
    {
      "cell_type": "code",
      "execution_count": null,
      "metadata": {
        "id": "5zcmBBhogrtg"
      },
      "outputs": [],
      "source": [
        "# Data directory\n",
        "#data_dir = '/Users/noegutierrez/Documents/ecole/MCE/project-machine-learning/dataset/archive/BraTS2020_TrainingData/MICCAI_BraTS2020_TrainingData/'\n",
        "data_dir = 'C:/Users/noebi/Documents/ecole/fiseA3/mce/project_ml/dataset/archive/BraTS2020_TrainingData/MICCAI_BraTS2020_TrainingData/'\n",
        "\n",
        "save_dir = 'models/ushida_reduced'\n",
        "os.makedirs(save_dir, exist_ok=True)"
      ]
    },
    {
      "cell_type": "code",
      "execution_count": null,
      "metadata": {
        "id": "CXUlwQjrgrth"
      },
      "outputs": [],
      "source": [
        "\n",
        "def resize_depth_layer(input_tensor, n_height, n_width):\n",
        "    resized_depth_layers = []\n",
        "\n",
        "    # Iterate over each depth layer\n",
        "    for d in range(input_tensor.shape[-1]):\n",
        "        # Extract the depth layer\n",
        "        depth_layer = input_tensor[:,:,:, d]\n",
        "        # Resize the depth layer to the desired size\n",
        "        resized_depth_layer = torch.nn.functional.interpolate(depth_layer.unsqueeze(0), size=(n_height, n_width), mode='bilinear', align_corners=False).squeeze(0)\n",
        "        # Append the resized depth layer to the list\n",
        "        resized_depth_layers.append(resized_depth_layer)\n",
        "\n",
        "    # Stack the resized depth layers along the depth dimension\n",
        "    resized_tensor = torch.stack(resized_depth_layers, dim=-1)\n",
        "\n",
        "    return resized_tensor\n",
        "\n",
        "\n",
        "\n",
        "# Function to save the model\n",
        "def save_model(model, optimizer, epoch, loss):\n",
        "    state = {\n",
        "        'epoch': epoch,\n",
        "        'model_state_dict': model.state_dict(),\n",
        "        'optimizer_state_dict': optimizer.state_dict(),\n",
        "        'loss': loss\n",
        "    }\n",
        "    torch.save(state, os.path.join(save_dir, f'model_epoch_{epoch}.pt'))\n",
        "\n",
        "\n",
        "# Function to plot training and validation loss\n",
        "def plot_loss(train_losses, val_losses, num_epochs):\n",
        "    plt.figure(figsize=(10, 5))\n",
        "    plt.plot(range(1, num_epochs + 1), train_losses, label='Training Loss')\n",
        "    plt.plot(range(1, num_epochs + 1), val_losses, label='Validation Loss')\n",
        "    plt.xlabel('Epoch')\n",
        "    plt.ylabel('Loss')\n",
        "    plt.title('Training and Validation Loss')\n",
        "    plt.legend()\n",
        "    plt.show()\n"
      ]
    },
    {
      "cell_type": "code",
      "execution_count": null,
      "metadata": {
        "id": "xEiWKf0vgrth"
      },
      "outputs": [],
      "source": [
        "def dice_coefficient(predicted, target):\n",
        "    smooth = 1e-6  # to avoid division by zero\n",
        "    intersection = (predicted * target).sum()\n",
        "    return (2. * intersection + smooth) / (predicted.sum() + target.sum() + smooth)\n",
        "\n",
        "def iou(predicted, target):\n",
        "    smooth = 1e-6\n",
        "    intersection = (predicted * target).sum()\n",
        "    union = predicted.sum() + target.sum() - intersection\n",
        "    return (intersection + smooth) / (union + smooth)\n"
      ]
    },
    {
      "cell_type": "code",
      "execution_count": null,
      "metadata": {
        "id": "X2gV8ervgrth"
      },
      "outputs": [],
      "source": [
        "class UNet3D(nn.Module):\n",
        "    def __init__(self, in_channels, out_channels):\n",
        "        super(UNet3D, self).__init__()\n",
        "\n",
        "        def conv_block(in_ch, out_ch):\n",
        "            return nn.Sequential(\n",
        "                nn.Conv3d(in_ch, out_ch, kernel_size=3, padding=1),\n",
        "                nn.ReLU(inplace=True),\n",
        "                nn.Conv3d(out_ch, out_ch, kernel_size=3, padding=1),\n",
        "                nn.ReLU(inplace=True)\n",
        "            )\n",
        "\n",
        "        self.enc1 = conv_block(in_channels, 64)\n",
        "        self.pool1 = nn.MaxPool3d(2)\n",
        "        self.enc2 = conv_block(64, 128)\n",
        "        self.pool2 = nn.MaxPool3d((2, 2, 1))  # reduce only x, y dims, not z\n",
        "        self.enc3 = conv_block(128, 256)\n",
        "        self.pool3 = nn.MaxPool3d((2, 2, 1))  # reduce only x, y dims, not z\n",
        "\n",
        "        self.bottleneck = conv_block(256, 512)\n",
        "\n",
        "        self.up3 = nn.ConvTranspose3d(512, 256, kernel_size=(2, 2, 1), stride=(2, 2, 1))\n",
        "        self.dec3 = conv_block(512, 256)\n",
        "        self.up2 = nn.ConvTranspose3d(256, 128, kernel_size=(2, 2, 1), stride=(2, 2, 1))\n",
        "        self.dec2 = conv_block(256, 128)\n",
        "        self.up1 = nn.ConvTranspose3d(128, 64, kernel_size=2, stride=2)\n",
        "        self.dec1 = conv_block(128, 64)\n",
        "\n",
        "        self.final = nn.Conv3d(64, out_channels, kernel_size=1)\n",
        "\n",
        "    def forward(self, x):\n",
        "        # Encoder\n",
        "        e1 = self.enc1(x)\n",
        "        p1 = self.pool1(e1)\n",
        "        e2 = self.enc2(p1)\n",
        "        p2 = self.pool2(e2)\n",
        "        e3 = self.enc3(p2)\n",
        "        p3 = self.pool3(e3)\n",
        "\n",
        "        # Bottleneck\n",
        "        b = self.bottleneck(p3)\n",
        "\n",
        "        # Decoder\n",
        "        u3 = self.up3(b)\n",
        "        cat3 = torch.cat([u3, e3], dim=1)\n",
        "        d3 = self.dec3(cat3)\n",
        "\n",
        "        u2 = self.up2(d3)\n",
        "        cat2 = torch.cat([u2, e2], dim=1)\n",
        "        d2 = self.dec2(cat2)\n",
        "\n",
        "        u1 = self.up1(d2)\n",
        "        cat1 = torch.cat([u1, e1], dim=1)\n",
        "        d1 = self.dec1(cat1)\n",
        "\n",
        "        out = self.final(d1)\n",
        "        return out\n"
      ]
    },
    {
      "cell_type": "code",
      "execution_count": null,
      "metadata": {
        "id": "-c_AWakCgrth"
      },
      "outputs": [],
      "source": [
        "# Custom Dataset Definition\n",
        "class BratsDataset(Dataset):\n",
        "    def __init__(self, data_dir, transform=None, slice1=97, slice2=101, num_samples=None, num_validation_samples=0, validation=False):\n",
        "        self.data_dir = data_dir\n",
        "        self.transform = transform\n",
        "        self.validation = validation\n",
        "        self.slice1 = slice1\n",
        "        self.slice2 = slice2\n",
        "        self.num_samples = num_samples\n",
        "        self.num_validation_samples = num_validation_samples\n",
        "        self.patient_folders = sorted([folder for folder in os.listdir(data_dir) if folder.startswith('BraTS20_Training')])\n",
        "        if self.num_samples is not None:\n",
        "            self.patient_folders = self.patient_folders[:self.num_samples]\n",
        "\n",
        "        # Divide dataset into training and validation sets\n",
        "        if self.num_validation_samples > 0:\n",
        "            self.train_patient_folders = self.patient_folders[:-num_validation_samples]\n",
        "            self.val_patient_folders = self.patient_folders[-num_validation_samples:]\n",
        "        else:\n",
        "            self.train_patient_folders = self.patient_folders\n",
        "            self.val_patient_folders = []\n",
        "        if self.validation :\n",
        "            # print('validation', self.validation)\n",
        "            # print('len val patient folders', len(self.val_patient_folders))\n",
        "            # print('len train_patient foldes', len(self.train_patient_folders))\n",
        "            self.train_patient_folders = self.val_patient_folders\n",
        "            #print('new len train patient folders', len(self.train_patient_folders))\n",
        "    def __len__(self):\n",
        "        return len(self.train_patient_folders)\n",
        "\n",
        "    def __getitem__(self, idx):\n",
        "        folder_name = self.train_patient_folders[idx]\n",
        "        #print('len de train patient folders dans get item',len(self.train_patient_folders))\n",
        "        flair_path = os.path.join(self.data_dir, folder_name, f'{folder_name}_flair.nii')\n",
        "        t1ce_path = os.path.join(self.data_dir, folder_name, f'{folder_name}_t1ce.nii')\n",
        "        seg_path = os.path.join(self.data_dir, folder_name, f'{folder_name}_seg.nii')\n",
        "        flair_img = nib.load(flair_path).get_fdata()[:,:,self.slice1:self.slice2]\n",
        "        t1ce_img = nib.load(t1ce_path).get_fdata()[:,:,self.slice1:self.slice2]\n",
        "        seg_img = nib.load(seg_path).get_fdata()[:,:,self.slice1:self.slice2]\n",
        "\n",
        "        # Convert to PyTorch tensors\n",
        "        flair_img = torch.tensor(flair_img).float()\n",
        "        t1ce_img = torch.tensor(t1ce_img).float()\n",
        "        seg_img = torch.tensor(seg_img).float()\n",
        "\n",
        "        # Replace all occurrences of 4 with 3\n",
        "        seg_img[seg_img == 4] = 3\n",
        "\n",
        "        # Combine flair and t1ce images along the channel dimension\n",
        "        input_img = torch.stack((flair_img, t1ce_img), dim=0)\n",
        "\n",
        "        # Resize images\n",
        "        new_width = 128\n",
        "        new_height = 128\n",
        "        input_img = resize_depth_layer(input_img, new_height, new_width)\n",
        "        seg_img = resize_depth_layer(seg_img.unsqueeze(0), new_height, new_width).squeeze(0).long()\n",
        "\n",
        "        if self.transform:\n",
        "            input_img = self.transform(input_img)\n",
        "            seg_img = self.transform(seg_img)\n",
        "\n",
        "        return input_img, seg_img"
      ]
    },
    {
      "cell_type": "code",
      "execution_count": null,
      "metadata": {
        "id": "Jd8jvRkqgrth"
      },
      "outputs": [],
      "source": [
        "# Function to train the model\n",
        "def train_model(model, train_loader, val_loader, criterion, optimizer, num_epochs=10, alpha=0.1):\n",
        "    train_losses = []\n",
        "    val_losses = []\n",
        "    best_val_loss = float('inf')\n",
        "    for epoch in range(num_epochs):\n",
        "        model.train()\n",
        "        running_loss = 0.0\n",
        "        progress_bar = tqdm(train_loader, desc=f'Epoch {epoch+1}/{num_epochs}', leave=False)\n",
        "        for img, seg_img in progress_bar:\n",
        "            optimizer.zero_grad()\n",
        "            outputs = model(img.to(device))\n",
        "            loss = criterion(outputs, seg_img.long().to(device))\n",
        "            #print(model.up1.weight.shape)\n",
        "            watermarkloss=waterloss(model.up1.weight).to(device)\n",
        "            total_loss=loss+alpha*watermarkloss\n",
        "            total_loss.backward()\n",
        "            optimizer.step()\n",
        "            running_loss += loss.item()\n",
        "            progress_bar.set_postfix(loss=running_loss / len(train_loader.dataset))\n",
        "\n",
        "        epoch_loss = running_loss / len(train_loader.dataset)\n",
        "        train_losses.append(epoch_loss)\n",
        "        print(f\"Epoch {epoch+1}/{num_epochs}, Training Loss: {epoch_loss:.4f}\")\n",
        "\n",
        "        # Validation phase\n",
        "        model.eval()\n",
        "        val_running_loss = 0.0\n",
        "        with torch.no_grad():\n",
        "            for val_img, val_seg_img in tqdm(val_loader, desc=f'Epoch {epoch+1}/{num_epochs} (Validation)', leave=False):\n",
        "                val_outputs = model(val_img.to(device))\n",
        "                val_loss = criterion(val_outputs, val_seg_img.long().to(device))\n",
        "                val_running_loss += val_loss.item()\n",
        "\n",
        "        val_epoch_loss = val_running_loss / len(val_loader.dataset)\n",
        "        val_losses.append(val_epoch_loss)\n",
        "        print(f\"Epoch {epoch+1}/{num_epochs}, Validation Loss: {val_epoch_loss:.4f}\")\n",
        "\n",
        "        # Save the model if validation loss has decreased\n",
        "        if val_epoch_loss < best_val_loss:\n",
        "            best_val_loss = val_epoch_loss\n",
        "            save_model(model, optimizer, epoch+1, val_epoch_loss)\n",
        "\n",
        "    plot_loss(train_losses, val_losses, num_epochs)\n"
      ]
    },
    {
      "cell_type": "code",
      "execution_count": null,
      "metadata": {
        "id": "J6MnGo-vgrti"
      },
      "outputs": [],
      "source": [
        "# Model configuration\n",
        "in_channels = 2\n",
        "out_channels = 4\n",
        "model = UNet3D(in_channels, out_channels).to(device)"
      ]
    },
    {
      "cell_type": "code",
      "execution_count": null,
      "metadata": {
        "id": "2eP8XwTtgrti",
        "outputId": "a77baa84-52b0-4988-a4d0-0f828985f67e"
      },
      "outputs": [
        {
          "name": "stdout",
          "output_type": "stream",
          "text": [
            "Len train_loader = 7\n",
            "Len validation_loader = 1\n"
          ]
        }
      ],
      "source": [
        "# Dataset and DataLoader\n",
        "#batch_size = 5\n",
        "#nb_patients = 369\n",
        "#nb_validation = 25\n",
        "\n",
        "nb_patients = 16\n",
        "nb_validation = 2\n",
        "batch_size = 2\n",
        "\n",
        "\n",
        "size1 = 61\n",
        "size2 = 85\n",
        "\n",
        "validation = True\n",
        "# Dataset and DataLoader for training\n",
        "train_dataset = BratsDataset(data_dir, transform=None, num_samples=nb_patients, num_validation_samples=nb_validation, slice1=size1, slice2=size2)\n",
        "train_loader = DataLoader(train_dataset, batch_size=batch_size, shuffle=True)\n",
        "print(\"Len train_loader =\", len(train_loader))\n",
        "\n",
        "# Dataset and DataLoader for validation\n",
        "val_dataset = BratsDataset(data_dir, transform=None, num_samples=nb_patients, num_validation_samples=nb_validation, validation=validation, slice1=size1, slice2=size2)\n",
        "val_loader = DataLoader(val_dataset, batch_size=batch_size, shuffle=False)\n",
        "print(\"Len validation_loader =\", len(val_loader))\n",
        "\n",
        "\n",
        "\n",
        "# Loss function and optimizer\n",
        "criterion = nn.CrossEntropyLoss()\n",
        "lr = 0.00001\n",
        "#lr = 0.0001\n",
        "optimizer = optim.Adam(model.parameters(), lr=lr)\n",
        "\n",
        "# Number of epochs\n",
        "num_epochs = 30\n",
        "#num_epochs = 10\n",
        "alpha = 0.1"
      ]
    },
    {
      "cell_type": "code",
      "execution_count": null,
      "metadata": {
        "id": "KtZGnVWTgrti",
        "outputId": "29f3ffcc-7efb-44ae-8a15-7f71048910ce"
      },
      "outputs": [
        {
          "name": "stderr",
          "output_type": "stream",
          "text": [
            "                                                                     \r"
          ]
        },
        {
          "name": "stdout",
          "output_type": "stream",
          "text": [
            "Epoch 1/30, Training Loss: 0.7060\n"
          ]
        },
        {
          "name": "stderr",
          "output_type": "stream",
          "text": [
            "                                                                      \r"
          ]
        },
        {
          "name": "stdout",
          "output_type": "stream",
          "text": [
            "Epoch 1/30, Validation Loss: 0.5594\n"
          ]
        },
        {
          "name": "stderr",
          "output_type": "stream",
          "text": [
            "                                                                      \r"
          ]
        },
        {
          "name": "stdout",
          "output_type": "stream",
          "text": [
            "Epoch 2/30, Training Loss: 0.5446\n"
          ]
        },
        {
          "name": "stderr",
          "output_type": "stream",
          "text": [
            "                                                                      \r"
          ]
        },
        {
          "name": "stdout",
          "output_type": "stream",
          "text": [
            "Epoch 2/30, Validation Loss: 0.5917\n"
          ]
        },
        {
          "name": "stderr",
          "output_type": "stream",
          "text": [
            "                                                                      \r"
          ]
        },
        {
          "name": "stdout",
          "output_type": "stream",
          "text": [
            "Epoch 3/30, Training Loss: 0.5420\n"
          ]
        },
        {
          "name": "stderr",
          "output_type": "stream",
          "text": [
            "                                                                      \r"
          ]
        },
        {
          "name": "stdout",
          "output_type": "stream",
          "text": [
            "Epoch 3/30, Validation Loss: 0.5741\n"
          ]
        },
        {
          "name": "stderr",
          "output_type": "stream",
          "text": [
            "                                                                      \r"
          ]
        },
        {
          "name": "stdout",
          "output_type": "stream",
          "text": [
            "Epoch 4/30, Training Loss: 0.5254\n"
          ]
        },
        {
          "name": "stderr",
          "output_type": "stream",
          "text": [
            "                                                                      \r"
          ]
        },
        {
          "name": "stdout",
          "output_type": "stream",
          "text": [
            "Epoch 4/30, Validation Loss: 0.5307\n"
          ]
        },
        {
          "name": "stderr",
          "output_type": "stream",
          "text": [
            "                                                                      \r"
          ]
        },
        {
          "name": "stdout",
          "output_type": "stream",
          "text": [
            "Epoch 5/30, Training Loss: 0.4782\n"
          ]
        },
        {
          "name": "stderr",
          "output_type": "stream",
          "text": [
            "                                                                      \r"
          ]
        },
        {
          "name": "stdout",
          "output_type": "stream",
          "text": [
            "Epoch 5/30, Validation Loss: 0.4300\n"
          ]
        },
        {
          "name": "stderr",
          "output_type": "stream",
          "text": [
            "                                                                      \r"
          ]
        },
        {
          "name": "stdout",
          "output_type": "stream",
          "text": [
            "Epoch 6/30, Training Loss: 0.3685\n"
          ]
        },
        {
          "name": "stderr",
          "output_type": "stream",
          "text": [
            "                                                                      \r"
          ]
        },
        {
          "name": "stdout",
          "output_type": "stream",
          "text": [
            "Epoch 6/30, Validation Loss: 0.3794\n"
          ]
        },
        {
          "name": "stderr",
          "output_type": "stream",
          "text": [
            "                                                                      \r"
          ]
        },
        {
          "name": "stdout",
          "output_type": "stream",
          "text": [
            "Epoch 7/30, Training Loss: 0.3020\n"
          ]
        },
        {
          "name": "stderr",
          "output_type": "stream",
          "text": [
            "                                                                      \r"
          ]
        },
        {
          "name": "stdout",
          "output_type": "stream",
          "text": [
            "Epoch 7/30, Validation Loss: 0.2898\n"
          ]
        },
        {
          "name": "stderr",
          "output_type": "stream",
          "text": [
            "                                                                      \r"
          ]
        },
        {
          "name": "stdout",
          "output_type": "stream",
          "text": [
            "Epoch 8/30, Training Loss: 0.2529\n"
          ]
        },
        {
          "name": "stderr",
          "output_type": "stream",
          "text": [
            "                                                                      \r"
          ]
        },
        {
          "name": "stdout",
          "output_type": "stream",
          "text": [
            "Epoch 8/30, Validation Loss: 0.2339\n"
          ]
        },
        {
          "name": "stderr",
          "output_type": "stream",
          "text": [
            "                                                                      \r"
          ]
        },
        {
          "name": "stdout",
          "output_type": "stream",
          "text": [
            "Epoch 9/30, Training Loss: 0.2055\n"
          ]
        },
        {
          "name": "stderr",
          "output_type": "stream",
          "text": [
            "                                                                      \r"
          ]
        },
        {
          "name": "stdout",
          "output_type": "stream",
          "text": [
            "Epoch 9/30, Validation Loss: 0.1976\n"
          ]
        },
        {
          "name": "stderr",
          "output_type": "stream",
          "text": [
            "                                                                       \r"
          ]
        },
        {
          "name": "stdout",
          "output_type": "stream",
          "text": [
            "Epoch 10/30, Training Loss: 0.1823\n"
          ]
        },
        {
          "name": "stderr",
          "output_type": "stream",
          "text": [
            "                                                                       \r"
          ]
        },
        {
          "name": "stdout",
          "output_type": "stream",
          "text": [
            "Epoch 10/30, Validation Loss: 0.1543\n"
          ]
        },
        {
          "name": "stderr",
          "output_type": "stream",
          "text": [
            "                                                                       \r"
          ]
        },
        {
          "name": "stdout",
          "output_type": "stream",
          "text": [
            "Epoch 11/30, Training Loss: 0.1559\n"
          ]
        },
        {
          "name": "stderr",
          "output_type": "stream",
          "text": [
            "                                                                       \r"
          ]
        },
        {
          "name": "stdout",
          "output_type": "stream",
          "text": [
            "Epoch 11/30, Validation Loss: 0.1508\n"
          ]
        },
        {
          "name": "stderr",
          "output_type": "stream",
          "text": [
            "                                                                       \r"
          ]
        },
        {
          "name": "stdout",
          "output_type": "stream",
          "text": [
            "Epoch 12/30, Training Loss: 0.1299\n"
          ]
        },
        {
          "name": "stderr",
          "output_type": "stream",
          "text": [
            "                                                                       \r"
          ]
        },
        {
          "name": "stdout",
          "output_type": "stream",
          "text": [
            "Epoch 12/30, Validation Loss: 0.1149\n"
          ]
        },
        {
          "name": "stderr",
          "output_type": "stream",
          "text": [
            "                                                                       \r"
          ]
        },
        {
          "name": "stdout",
          "output_type": "stream",
          "text": [
            "Epoch 13/30, Training Loss: 0.1074\n"
          ]
        },
        {
          "name": "stderr",
          "output_type": "stream",
          "text": [
            "                                                                       \r"
          ]
        },
        {
          "name": "stdout",
          "output_type": "stream",
          "text": [
            "Epoch 13/30, Validation Loss: 0.1139\n"
          ]
        },
        {
          "name": "stderr",
          "output_type": "stream",
          "text": [
            "                                                                       \r"
          ]
        },
        {
          "name": "stdout",
          "output_type": "stream",
          "text": [
            "Epoch 14/30, Training Loss: 0.0960\n"
          ]
        },
        {
          "name": "stderr",
          "output_type": "stream",
          "text": [
            "                                                                       \r"
          ]
        },
        {
          "name": "stdout",
          "output_type": "stream",
          "text": [
            "Epoch 14/30, Validation Loss: 0.1072\n"
          ]
        },
        {
          "name": "stderr",
          "output_type": "stream",
          "text": [
            "                                                                       \r"
          ]
        },
        {
          "name": "stdout",
          "output_type": "stream",
          "text": [
            "Epoch 15/30, Training Loss: 0.0864\n"
          ]
        },
        {
          "name": "stderr",
          "output_type": "stream",
          "text": [
            "                                                                       \r"
          ]
        },
        {
          "name": "stdout",
          "output_type": "stream",
          "text": [
            "Epoch 15/30, Validation Loss: 0.0921\n"
          ]
        },
        {
          "name": "stderr",
          "output_type": "stream",
          "text": [
            "                                                                       \r"
          ]
        },
        {
          "name": "stdout",
          "output_type": "stream",
          "text": [
            "Epoch 16/30, Training Loss: 0.0788\n"
          ]
        },
        {
          "name": "stderr",
          "output_type": "stream",
          "text": [
            "                                                                       \r"
          ]
        },
        {
          "name": "stdout",
          "output_type": "stream",
          "text": [
            "Epoch 16/30, Validation Loss: 0.0853\n"
          ]
        },
        {
          "name": "stderr",
          "output_type": "stream",
          "text": [
            "                                                                        \r"
          ]
        },
        {
          "name": "stdout",
          "output_type": "stream",
          "text": [
            "Epoch 17/30, Training Loss: 0.0725\n"
          ]
        },
        {
          "name": "stderr",
          "output_type": "stream",
          "text": [
            "                                                                       \r"
          ]
        },
        {
          "name": "stdout",
          "output_type": "stream",
          "text": [
            "Epoch 17/30, Validation Loss: 0.0749\n"
          ]
        },
        {
          "name": "stderr",
          "output_type": "stream",
          "text": [
            "                                                                       \r"
          ]
        },
        {
          "name": "stdout",
          "output_type": "stream",
          "text": [
            "Epoch 18/30, Training Loss: 0.0680\n"
          ]
        },
        {
          "name": "stderr",
          "output_type": "stream",
          "text": [
            "                                                                       \r"
          ]
        },
        {
          "name": "stdout",
          "output_type": "stream",
          "text": [
            "Epoch 18/30, Validation Loss: 0.0818\n"
          ]
        },
        {
          "name": "stderr",
          "output_type": "stream",
          "text": [
            "                                                                        \r"
          ]
        },
        {
          "name": "stdout",
          "output_type": "stream",
          "text": [
            "Epoch 19/30, Training Loss: 0.0651\n"
          ]
        },
        {
          "name": "stderr",
          "output_type": "stream",
          "text": [
            "                                                                       \r"
          ]
        },
        {
          "name": "stdout",
          "output_type": "stream",
          "text": [
            "Epoch 19/30, Validation Loss: 0.0757\n"
          ]
        },
        {
          "name": "stderr",
          "output_type": "stream",
          "text": [
            "                                                                        \r"
          ]
        },
        {
          "name": "stdout",
          "output_type": "stream",
          "text": [
            "Epoch 20/30, Training Loss: 0.0606\n"
          ]
        },
        {
          "name": "stderr",
          "output_type": "stream",
          "text": [
            "                                                                       \r"
          ]
        },
        {
          "name": "stdout",
          "output_type": "stream",
          "text": [
            "Epoch 20/30, Validation Loss: 0.0744\n"
          ]
        },
        {
          "name": "stderr",
          "output_type": "stream",
          "text": [
            "                                                                       \r"
          ]
        },
        {
          "name": "stdout",
          "output_type": "stream",
          "text": [
            "Epoch 21/30, Training Loss: 0.0578\n"
          ]
        },
        {
          "name": "stderr",
          "output_type": "stream",
          "text": [
            "                                                                       \r"
          ]
        },
        {
          "name": "stdout",
          "output_type": "stream",
          "text": [
            "Epoch 21/30, Validation Loss: 0.0688\n"
          ]
        },
        {
          "name": "stderr",
          "output_type": "stream",
          "text": [
            "                                                                        \r"
          ]
        },
        {
          "name": "stdout",
          "output_type": "stream",
          "text": [
            "Epoch 22/30, Training Loss: 0.0549\n"
          ]
        },
        {
          "name": "stderr",
          "output_type": "stream",
          "text": [
            "                                                                       \r"
          ]
        },
        {
          "name": "stdout",
          "output_type": "stream",
          "text": [
            "Epoch 22/30, Validation Loss: 0.0710\n"
          ]
        },
        {
          "name": "stderr",
          "output_type": "stream",
          "text": [
            "                                                                        \r"
          ]
        },
        {
          "name": "stdout",
          "output_type": "stream",
          "text": [
            "Epoch 23/30, Training Loss: 0.0540\n"
          ]
        },
        {
          "name": "stderr",
          "output_type": "stream",
          "text": [
            "                                                                       \r"
          ]
        },
        {
          "name": "stdout",
          "output_type": "stream",
          "text": [
            "Epoch 23/30, Validation Loss: 0.0776\n"
          ]
        },
        {
          "name": "stderr",
          "output_type": "stream",
          "text": [
            "                                                                       \r"
          ]
        },
        {
          "name": "stdout",
          "output_type": "stream",
          "text": [
            "Epoch 24/30, Training Loss: 0.0532\n"
          ]
        },
        {
          "name": "stderr",
          "output_type": "stream",
          "text": [
            "                                                                       \r"
          ]
        },
        {
          "name": "stdout",
          "output_type": "stream",
          "text": [
            "Epoch 24/30, Validation Loss: 0.0630\n"
          ]
        },
        {
          "name": "stderr",
          "output_type": "stream",
          "text": [
            "                                                                        \r"
          ]
        },
        {
          "name": "stdout",
          "output_type": "stream",
          "text": [
            "Epoch 25/30, Training Loss: 0.0507\n"
          ]
        },
        {
          "name": "stderr",
          "output_type": "stream",
          "text": [
            "                                                                       \r"
          ]
        },
        {
          "name": "stdout",
          "output_type": "stream",
          "text": [
            "Epoch 25/30, Validation Loss: 0.0627\n"
          ]
        },
        {
          "name": "stderr",
          "output_type": "stream",
          "text": [
            "                                                                       \r"
          ]
        },
        {
          "name": "stdout",
          "output_type": "stream",
          "text": [
            "Epoch 26/30, Training Loss: 0.0487\n"
          ]
        },
        {
          "name": "stderr",
          "output_type": "stream",
          "text": [
            "                                                                       \r"
          ]
        },
        {
          "name": "stdout",
          "output_type": "stream",
          "text": [
            "Epoch 26/30, Validation Loss: 0.0671\n"
          ]
        },
        {
          "name": "stderr",
          "output_type": "stream",
          "text": [
            "                                                                        \r"
          ]
        },
        {
          "name": "stdout",
          "output_type": "stream",
          "text": [
            "Epoch 27/30, Training Loss: 0.0493\n"
          ]
        },
        {
          "name": "stderr",
          "output_type": "stream",
          "text": [
            "                                                                       \r"
          ]
        },
        {
          "name": "stdout",
          "output_type": "stream",
          "text": [
            "Epoch 27/30, Validation Loss: 0.0743\n"
          ]
        },
        {
          "name": "stderr",
          "output_type": "stream",
          "text": [
            "                                                                       \r"
          ]
        },
        {
          "name": "stdout",
          "output_type": "stream",
          "text": [
            "Epoch 28/30, Training Loss: 0.0483\n"
          ]
        },
        {
          "name": "stderr",
          "output_type": "stream",
          "text": [
            "                                                                       \r"
          ]
        },
        {
          "name": "stdout",
          "output_type": "stream",
          "text": [
            "Epoch 28/30, Validation Loss: 0.0552\n"
          ]
        },
        {
          "name": "stderr",
          "output_type": "stream",
          "text": [
            "                                                                        \r"
          ]
        },
        {
          "name": "stdout",
          "output_type": "stream",
          "text": [
            "Epoch 29/30, Training Loss: 0.0485\n"
          ]
        },
        {
          "name": "stderr",
          "output_type": "stream",
          "text": [
            "                                                                       \r"
          ]
        },
        {
          "name": "stdout",
          "output_type": "stream",
          "text": [
            "Epoch 29/30, Validation Loss: 0.0596\n"
          ]
        },
        {
          "name": "stderr",
          "output_type": "stream",
          "text": [
            "                                                                        \r"
          ]
        },
        {
          "name": "stdout",
          "output_type": "stream",
          "text": [
            "Epoch 30/30, Training Loss: 0.0475\n"
          ]
        },
        {
          "name": "stderr",
          "output_type": "stream",
          "text": [
            "                                                                       "
          ]
        },
        {
          "name": "stdout",
          "output_type": "stream",
          "text": [
            "Epoch 30/30, Validation Loss: 0.0741\n"
          ]
        },
        {
          "name": "stderr",
          "output_type": "stream",
          "text": [
            "\r"
          ]
        },
        {
          "data": {
            "image/png": "[encoded data removed]",
            "text/plain": [
              "<Figure size 1000x500 with 1 Axes>"
            ]
          },
          "metadata": {},
          "output_type": "display_data"
        }
      ],
      "source": [
        "train_model(model, train_loader, val_loader, criterion, optimizer, num_epochs=num_epochs, alpha=alpha)"
      ]
    },
    {
      "cell_type": "code",
      "execution_count": null,
      "metadata": {
        "id": "OKkMRCMrgrti",
        "outputId": "4c129977-ee9b-4b6c-db37-8cf4cd665d13"
      },
      "outputs": [
        {
          "data": {
            "image/png": "[encoded data removed]",
            "text/plain": [
              "<Figure size 640x480 with 1 Axes>"
            ]
          },
          "metadata": {},
          "output_type": "display_data"
        }
      ],
      "source": [
        "X_np= extract_watermark(model, key).to(\"cpu\").detach().numpy()\n",
        "\n",
        "# Plot 1-X and Y on the same plot\n",
        "plt.plot(X_np, label='extracted_watermark')\n",
        "plt.plot(mark.cpu(), label='mark')\n",
        "plt.xlabel('Index')\n",
        "plt.ylabel('Values')\n",
        "plt.title('Comparison of watermark and extracted watermark')\n",
        "plt.legend()\n",
        "plt.show()"
      ]
    },
    {
      "cell_type": "code",
      "execution_count": null,
      "metadata": {
        "id": "37QLCxKRgrti",
        "outputId": "00ab59a4-daab-4d49-ece7-066ab7b6638f"
      },
      "outputs": [
        {
          "data": {
            "image/png": "[encoded data removed]",
            "text/plain": [
              "<Figure size 640x480 with 1 Axes>"
            ]
          },
          "metadata": {},
          "output_type": "display_data"
        }
      ],
      "source": [
        "params = list(model.parameters())\n",
        "\n",
        "# Flatten and concatenate all the parameters into a single tensor\n",
        "weights = torch.cat([param.view(-1) for param in params])\n",
        "\n",
        "# Plot histogram\n",
        "plt.hist(weights.detach().cpu().numpy(), bins=50)\n",
        "plt.xlabel('Weight Value')\n",
        "plt.ylabel('Frequency')\n",
        "plt.title('Distribution of Model Weights')\n",
        "plt.show()\n"
      ]
    },
    {
      "cell_type": "code",
      "execution_count": null,
      "metadata": {
        "id": "PNugwAungrti",
        "outputId": "cb2c397d-a3c2-4776-d5be-1174d182c988"
      },
      "outputs": [
        {
          "data": {
            "image/png": "[encoded data removed]",
            "text/plain": [
              "<Figure size 640x480 with 1 Axes>"
            ]
          },
          "metadata": {},
          "output_type": "display_data"
        }
      ],
      "source": [
        "def draw_boxes(binary_list, box_size=1.0, edge_color='black', edge_width=1.0):\n",
        "    fig, ax = plt.subplots()\n",
        "    ax.set_aspect('equal')\n",
        "    ax.set_axis_off()\n",
        "\n",
        "    for i, value in enumerate(binary_list):\n",
        "        face_color = 'white' if value >= 0.5 else 'black'\n",
        "        rect = plt.Rectangle((i * box_size, 0), box_size, box_size, facecolor=face_color, edgecolor=edge_color, linewidth=edge_width)\n",
        "        ax.add_patch(rect)\n",
        "\n",
        "    plt.xlim(0, len(binary_list) * box_size)\n",
        "    plt.ylim(0, box_size)\n",
        "    plt.show()\n",
        "\n",
        "# Example usage\n",
        "binary_list = [0, 1, 0, 1, 1, 0, 0, 1]\n",
        "draw_boxes(binary_list, box_size=2.0, edge_color='black', edge_width=1.0)"
      ]
    },
    {
      "cell_type": "code",
      "execution_count": null,
      "metadata": {
        "id": "EDU3J0G8grtj"
      },
      "outputs": [],
      "source": [
        "def draw_difference(binary_list,binary_list_2,box_size=1.0, edge_color='black', edge_width=1.0):\n",
        "    fig, ax = plt.subplots()\n",
        "    ax.set_aspect('equal')\n",
        "    ax.set_axis_off()\n",
        "    binary_np=np.array([tensor.item() for tensor in binary_list])\n",
        "    binary_np_2=np.array([tensor.item() for tensor in binary_list_2])\n",
        "    difference=np.abs(binary_np-binary_np_2)\n",
        "    for i, value in enumerate(difference):\n",
        "        face_color = 'red' if value >= 0.5 else 'green'\n",
        "        rect = plt.Rectangle((i * box_size, 0), box_size, box_size, facecolor=face_color, edgecolor=edge_color, linewidth=edge_width)\n",
        "        ax.add_patch(rect)\n",
        "\n",
        "    plt.xlim(0, len(binary_list) * box_size)\n",
        "    plt.ylim(0, box_size)\n",
        "    plt.show()"
      ]
    },
    {
      "cell_type": "code",
      "execution_count": null,
      "metadata": {
        "id": "LyMbAsxrgrtj",
        "outputId": "d91322ec-a500-4362-bdc2-3434239e6462"
      },
      "outputs": [
        {
          "name": "stdout",
          "output_type": "stream",
          "text": [
            "the original message is: \n"
          ]
        },
        {
          "data": {
            "image/png": "[encoded data removed]",
            "text/plain": [
              "<Figure size 640x480 with 1 Axes>"
            ]
          },
          "metadata": {},
          "output_type": "display_data"
        },
        {
          "name": "stdout",
          "output_type": "stream",
          "text": [
            "the recovered message is: \n"
          ]
        },
        {
          "data": {
            "image/png": "[encoded data removed]",
            "text/plain": [
              "<Figure size 640x480 with 1 Axes>"
            ]
          },
          "metadata": {},
          "output_type": "display_data"
        },
        {
          "name": "stdout",
          "output_type": "stream",
          "text": [
            "the difference is :\n"
          ]
        },
        {
          "data": {
            "image/png": "[encoded data removed]",
            "text/plain": [
              "<Figure size 640x480 with 1 Axes>"
            ]
          },
          "metadata": {},
          "output_type": "display_data"
        }
      ],
      "source": [
        "print('the original message is: ')\n",
        "draw_boxes(mark, box_size=2.0, edge_color='black', edge_width=1.0)\n",
        "print('the recovered message is: ')\n",
        "draw_boxes(X_np, box_size=2.0, edge_color='black', edge_width=1.0)\n",
        "print('the difference is :')\n",
        "draw_difference(X_np[0:24],mark[0:24],box_size=2.0, edge_color='black', edge_width=1.0)"
      ]
    },
    {
      "cell_type": "code",
      "execution_count": null,
      "metadata": {
        "id": "sIjH2-I-grtj"
      },
      "outputs": [],
      "source": [
        "def calculate_ber(binary_tensor, continuous_tensor):\n",
        "    # Ensure tensors are of the same shape\n",
        "    assert binary_tensor.shape == continuous_tensor.shape, \"Tensors must have the same shape\"\n",
        "\n",
        "    # Flatten tensors to 1D arrays\n",
        "    binary_flat = binary_tensor.flatten().cpu()\n",
        "    continuous_flat = continuous_tensor.flatten()\n",
        "\n",
        "    # Convert continuous tensor to binary based on threshold 0.5\n",
        "    binary_pred = (continuous_flat >= 0.5)\n",
        "\n",
        "    # Calculate bit errors\n",
        "    errors = torch.abs(binary_flat - binary_pred).sum().item()\n",
        "\n",
        "    # Calculate bit error rate\n",
        "    ber = errors / binary_flat.numel()\n",
        "\n",
        "    return ber"
      ]
    },
    {
      "cell_type": "code",
      "execution_count": null,
      "metadata": {
        "id": "R-KwtZXBgrtj",
        "outputId": "a0ab6d00-e36c-4847-d6ab-f2e64148630a"
      },
      "outputs": [
        {
          "name": "stdout",
          "output_type": "stream",
          "text": [
            "Bit Error Rate: 0.0078125\n"
          ]
        }
      ],
      "source": [
        "ber = calculate_ber(mark, X_np)\n",
        "print(\"Bit Error Rate:\", ber)"
      ]
    },
    {
      "cell_type": "code",
      "execution_count": null,
      "metadata": {
        "id": "IQtohPRZgrtj",
        "outputId": "a6f5a7ab-e56a-44c0-868a-15215af8340c"
      },
      "outputs": [
        {
          "ename": "FileNotFoundError",
          "evalue": "[Errno 2] No such file or directory: 'models/ushida_reduced/model_epoch_30.pt'",
          "output_type": "error",
          "traceback": [
            "\u001b[1;31m---------------------------------------------------------------------------\u001b[0m",
            "\u001b[1;31mFileNotFoundError\u001b[0m                         Traceback (most recent call last)",
            "Cell \u001b[1;32mIn[25], line 8\u001b[0m\n\u001b[0;32m      6\u001b[0m model_path \u001b[38;5;241m=\u001b[39m \u001b[38;5;124m\"\u001b[39m\u001b[38;5;124mmodels/ushida_reduced/model_epoch_30.pt\u001b[39m\u001b[38;5;124m\"\u001b[39m\n\u001b[0;32m      7\u001b[0m \u001b[38;5;66;03m# Load the saved file\u001b[39;00m\n\u001b[1;32m----> 8\u001b[0m checkpoint \u001b[38;5;241m=\u001b[39m \u001b[43mtorch\u001b[49m\u001b[38;5;241;43m.\u001b[39;49m\u001b[43mload\u001b[49m\u001b[43m(\u001b[49m\u001b[43mmodel_path\u001b[49m\u001b[43m)\u001b[49m\n\u001b[0;32m     10\u001b[0m \u001b[38;5;66;03m# Extract and load only the model state dictionary\u001b[39;00m\n\u001b[0;32m     11\u001b[0m model\u001b[38;5;241m.\u001b[39mload_state_dict(checkpoint[\u001b[38;5;124m'\u001b[39m\u001b[38;5;124mmodel_state_dict\u001b[39m\u001b[38;5;124m'\u001b[39m])\n",
            "File \u001b[1;32mc:\\Users\\noebi\\miniconda3\\envs\\project_ml\\Lib\\site-packages\\torch\\serialization.py:998\u001b[0m, in \u001b[0;36mload\u001b[1;34m(f, map_location, pickle_module, weights_only, mmap, **pickle_load_args)\u001b[0m\n\u001b[0;32m    995\u001b[0m \u001b[38;5;28;01mif\u001b[39;00m \u001b[38;5;124m'\u001b[39m\u001b[38;5;124mencoding\u001b[39m\u001b[38;5;124m'\u001b[39m \u001b[38;5;129;01mnot\u001b[39;00m \u001b[38;5;129;01min\u001b[39;00m pickle_load_args\u001b[38;5;241m.\u001b[39mkeys():\n\u001b[0;32m    996\u001b[0m     pickle_load_args[\u001b[38;5;124m'\u001b[39m\u001b[38;5;124mencoding\u001b[39m\u001b[38;5;124m'\u001b[39m] \u001b[38;5;241m=\u001b[39m \u001b[38;5;124m'\u001b[39m\u001b[38;5;124mutf-8\u001b[39m\u001b[38;5;124m'\u001b[39m\n\u001b[1;32m--> 998\u001b[0m \u001b[38;5;28;01mwith\u001b[39;00m \u001b[43m_open_file_like\u001b[49m\u001b[43m(\u001b[49m\u001b[43mf\u001b[49m\u001b[43m,\u001b[49m\u001b[43m \u001b[49m\u001b[38;5;124;43m'\u001b[39;49m\u001b[38;5;124;43mrb\u001b[39;49m\u001b[38;5;124;43m'\u001b[39;49m\u001b[43m)\u001b[49m \u001b[38;5;28;01mas\u001b[39;00m opened_file:\n\u001b[0;32m    999\u001b[0m     \u001b[38;5;28;01mif\u001b[39;00m _is_zipfile(opened_file):\n\u001b[0;32m   1000\u001b[0m         \u001b[38;5;66;03m# The zipfile reader is going to advance the current file position.\u001b[39;00m\n\u001b[0;32m   1001\u001b[0m         \u001b[38;5;66;03m# If we want to actually tail call to torch.jit.load, we need to\u001b[39;00m\n\u001b[0;32m   1002\u001b[0m         \u001b[38;5;66;03m# reset back to the original position.\u001b[39;00m\n\u001b[0;32m   1003\u001b[0m         orig_position \u001b[38;5;241m=\u001b[39m opened_file\u001b[38;5;241m.\u001b[39mtell()\n",
            "File \u001b[1;32mc:\\Users\\noebi\\miniconda3\\envs\\project_ml\\Lib\\site-packages\\torch\\serialization.py:445\u001b[0m, in \u001b[0;36m_open_file_like\u001b[1;34m(name_or_buffer, mode)\u001b[0m\n\u001b[0;32m    443\u001b[0m \u001b[38;5;28;01mdef\u001b[39;00m \u001b[38;5;21m_open_file_like\u001b[39m(name_or_buffer, mode):\n\u001b[0;32m    444\u001b[0m     \u001b[38;5;28;01mif\u001b[39;00m _is_path(name_or_buffer):\n\u001b[1;32m--> 445\u001b[0m         \u001b[38;5;28;01mreturn\u001b[39;00m \u001b[43m_open_file\u001b[49m\u001b[43m(\u001b[49m\u001b[43mname_or_buffer\u001b[49m\u001b[43m,\u001b[49m\u001b[43m \u001b[49m\u001b[43mmode\u001b[49m\u001b[43m)\u001b[49m\n\u001b[0;32m    446\u001b[0m     \u001b[38;5;28;01melse\u001b[39;00m:\n\u001b[0;32m    447\u001b[0m         \u001b[38;5;28;01mif\u001b[39;00m \u001b[38;5;124m'\u001b[39m\u001b[38;5;124mw\u001b[39m\u001b[38;5;124m'\u001b[39m \u001b[38;5;129;01min\u001b[39;00m mode:\n",
            "File \u001b[1;32mc:\\Users\\noebi\\miniconda3\\envs\\project_ml\\Lib\\site-packages\\torch\\serialization.py:426\u001b[0m, in \u001b[0;36m_open_file.__init__\u001b[1;34m(self, name, mode)\u001b[0m\n\u001b[0;32m    425\u001b[0m \u001b[38;5;28;01mdef\u001b[39;00m \u001b[38;5;21m__init__\u001b[39m(\u001b[38;5;28mself\u001b[39m, name, mode):\n\u001b[1;32m--> 426\u001b[0m     \u001b[38;5;28msuper\u001b[39m()\u001b[38;5;241m.\u001b[39m\u001b[38;5;21m__init__\u001b[39m(\u001b[38;5;28;43mopen\u001b[39;49m\u001b[43m(\u001b[49m\u001b[43mname\u001b[49m\u001b[43m,\u001b[49m\u001b[43m \u001b[49m\u001b[43mmode\u001b[49m\u001b[43m)\u001b[49m)\n",
            "\u001b[1;31mFileNotFoundError\u001b[0m: [Errno 2] No such file or directory: 'models/ushida_reduced/model_epoch_30.pt'"
          ]
        }
      ],
      "source": [
        "import numpy as np\n",
        "import matplotlib.pyplot as plt\n",
        "import matplotlib.colors as mcolors\n",
        "\n",
        "# Load the model\n",
        "model_path = \"models/ushida_reduced/model_epoch_30.pt\"\n",
        "# Load the saved file\n",
        "checkpoint = torch.load(model_path)\n",
        "\n",
        "# Extract and load only the model state dictionary\n",
        "model.load_state_dict(checkpoint['model_state_dict'])\n",
        "model.to(device)\n",
        "model.eval()  # Set the model to evaluation mode\n",
        "\n",
        "# Assuming this is your existing code\n",
        "for batch in val_loader:\n",
        "    test_input = batch[0].to(device)\n",
        "    gt = batch[1].to(device)\n",
        "    break\n",
        "\n",
        "output = model(test_input)\n",
        "output_image = output.squeeze().detach().cpu().numpy()  # Assuming output is a tensor\n",
        "gt = gt.cpu()\n",
        "test_input = test_input.cpu()\n",
        "im = 1 #image number 0, 1 etc here 1\n",
        "sli = 13 # slice to print\n",
        "test_input = test_input[im,:,:,:,:]\n",
        "gt = gt[im]\n",
        "output_image = output_image[im,:,:,:]\n",
        "\n",
        "# Convert logits to class indices by taking the argmax\n",
        "output_classes = np.argmax(output_image, axis=0)\n",
        "\n",
        "# Define a colormap with 4 distinct colors\n",
        "cmap = mcolors.ListedColormap(['black', 'green', 'blue', 'yellow'])\n",
        "\n",
        "# Displaying the images\n",
        "plt.figure(figsize=(12, 6))\n",
        "\n",
        "plt.subplot(1, 4, 1)\n",
        "plt.imshow(test_input[0,:,:,2])\n",
        "plt.title('Image T1CE')\n",
        "\n",
        "plt.subplot(1, 4, 2)\n",
        "plt.imshow(test_input[1,:,:,2])\n",
        "plt.title('Image FLAIR')\n",
        "\n",
        "plt.subplot(1, 4, 3)\n",
        "plt.imshow(gt[:,:,sli], cmap=cmap)\n",
        "plt.title('Ground Truth')\n",
        "\n",
        "plt.subplot(1, 4, 4)\n",
        "plt.imshow(output_classes[:,:,sli], cmap=cmap)\n",
        "plt.title('Segmented Output')\n",
        "\n",
        "plt.show()\n"
      ]
    }
  ],
  "metadata": {
    "colab": {
      "provenance": []
    },
    "kernelspec": {
      "display_name": "water_jup",
      "language": "python",
      "name": "water_jup"
    },
    "language_info": {
      "codemirror_mode": {
        "name": "ipython",
        "version": 3
      },
      "file_extension": ".py",
      "mimetype": "text/x-python",
      "name": "python",
      "nbconvert_exporter": "python",
      "pygments_lexer": "ipython3",
      "version": "3.12.1"
    }
  },
  "nbformat": 4,
  "nbformat_minor": 0
}
